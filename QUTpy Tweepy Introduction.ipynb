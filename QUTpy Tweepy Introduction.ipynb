{
 "cells": [
  {
   "cell_type": "markdown",
   "metadata": {
    "collapsed": true
   },
   "source": [
    "# Installation\n",
    "\n",
    "run (in Terminal)\n",
    "\n",
    "``pip3 install tweepy``\n",
    "\n",
    "or clone project from Github and follow installation instructions there: https://github.com/tweepy/tweepy"
   ]
  },
  {
   "cell_type": "markdown",
   "metadata": {},
   "source": [
    "# Connecting to the Twitter API\n",
    "\n",
    "get your keys: https://apps.twitter.com/"
   ]
  },
  {
   "cell_type": "code",
   "execution_count": null,
   "metadata": {
    "collapsed": true
   },
   "outputs": [],
   "source": [
    "ckey = ''\n",
    "csecret = ''\n",
    "atoken = ''\n",
    "asecret = ''"
   ]
  },
  {
   "cell_type": "code",
   "execution_count": null,
   "metadata": {
    "collapsed": false
   },
   "outputs": [],
   "source": [
    "import tweepy\n",
    "\n",
    "# create \"keychain\"\n",
    "auth = tweepy.OAuthHandler(ckey, csecret)\n",
    "auth.set_access_token(atoken, asecret)\n",
    "\n",
    "# create the API \"object\"\n",
    "\n",
    "api = tweepy.API(auth, wait_on_rate_limit = True, wait_on_rate_limit_notify = True)"
   ]
  },
  {
   "cell_type": "code",
   "execution_count": null,
   "metadata": {
    "collapsed": false
   },
   "outputs": [],
   "source": [
    "# testing connection by printing own timeline\n",
    "\n",
    "public_tweets = api.home_timeline(count = 5)\n",
    "\n",
    "for tweet in public_tweets:\n",
    "        print(tweet.text)"
   ]
  },
  {
   "cell_type": "code",
   "execution_count": null,
   "metadata": {
    "collapsed": false,
    "scrolled": true
   },
   "outputs": [],
   "source": [
    "# print Axel's last 5 tweets\n",
    "\n",
    "axels_timeline = api.user_timeline(id = 'snurb_dot_info', count = 5)\n",
    "\n",
    "for x in axels_timeline: \n",
    "    print(x.text)"
   ]
  },
  {
   "cell_type": "markdown",
   "metadata": {},
   "source": [
    "#Example: Track a keyword\n",
    "\n",
    "(Unfortunately this needs a manual fix of the module, but should be updated soon. See here: https://github.com/tweepy/tweepy/issues/615)"
   ]
  },
  {
   "cell_type": "code",
   "execution_count": null,
   "metadata": {
    "collapsed": true
   },
   "outputs": [],
   "source": [
    "import tweepy\n",
    "\n",
    "#create second 'app'\n",
    "ckey2 = ''\n",
    "csecret2 = ''\n",
    "atoken2 = ''\n",
    "asecret2 = ''\n",
    "\n",
    "# create \"keychain\"\n",
    "auth2 = tweepy.OAuthHandler(ckey2, csecret2)\n",
    "auth2.set_access_token(atoken2, asecret2)\n",
    "\n",
    "# create the API \"object\"\n",
    "\n",
    "api2 = tweepy.API(auth2, wait_on_rate_limit = True, wait_on_rate_limit_notify = True)"
   ]
  },
  {
   "cell_type": "code",
   "execution_count": null,
   "metadata": {
    "collapsed": false
   },
   "outputs": [],
   "source": [
    "class MyStreamListener(tweepy.StreamListener):\n",
    "# define the tasks of your certain kind of listener\n",
    "    \n",
    "    def on_status(self, status):\n",
    "        print('@' + status.user.screen_name + ': ' + status.text)\n",
    "        \n",
    "    def on_error(self, status_code):\n",
    "        print('error code = %s' % status_code)\n",
    "        return False\n",
    "\n",
    "\n",
    "myListener = MyStreamListener() \n",
    "# create a listener of that kind\n",
    "\n",
    "myStream = tweepy.Stream(auth = api2.auth, listener=myListener) \n",
    "# use the listener for creating a stream\n",
    "    \n",
    "try:\n",
    "    myStream.filter(track=['auspol']) \n",
    "    # access the stream\n",
    "except KeyboardInterrupt:\n",
    "    myStream.disconnect()\n",
    "    print('\\nGoodbye!')"
   ]
  },
  {
   "cell_type": "markdown",
   "metadata": {},
   "source": [
    "# Example: Gather following network of a list of users"
   ]
  },
  {
   "cell_type": "code",
   "execution_count": null,
   "metadata": {
    "collapsed": false
   },
   "outputs": [],
   "source": [
    "import time\n",
    "\n",
    "user = 'flxvctr' # the screenname of the user you want the friends of\n",
    "\n",
    "def get_friend_ids(username):\n",
    "\n",
    "    uids = tweepy.Cursor(api.friends_ids, screen_name=username).items()\n",
    "\n",
    "    idlist = []\n",
    "\n",
    "    for uid in uids:\n",
    "        idlist.append(uid)\n",
    "    \n",
    "    return idlist\n",
    "\n",
    "def get_screen_name_and_created_at(uids):\n",
    "    \n",
    "    friend_count = len(uids)\n",
    "    \n",
    "    i = 0\n",
    "    \n",
    "    results = []\n",
    "    \n",
    "    while i < friend_count:\n",
    "        j = i + 100\n",
    "        users = api.lookup_users(user_ids=uids[i:j])\n",
    "        for user in users:\n",
    "            results.append([uids[i],user.screen_name,int(time.mktime(user.created_at.timetuple()))])\n",
    "            i += 1\n",
    "                          \n",
    "    return results\n",
    "\n",
    "friendlist = get_screen_name_and_created_at(get_friend_ids(user))\n",
    "\n",
    "print(len(friendlist),friendlist)"
   ]
  },
  {
   "cell_type": "markdown",
   "metadata": {},
   "source": [
    "# And here's a script for CSVs (with errorhandling etc.)"
   ]
  },
  {
   "cell_type": "code",
   "execution_count": null,
   "metadata": {
    "collapsed": false
   },
   "outputs": [],
   "source": [
    "# Usage: \n",
    "# insert consumer and app keys below\n",
    "# run (eg in Terminal): python3 scriptname.py inputfile.csv outputfile.csv\n",
    "# inputfile is a list of userids\n",
    "\n",
    "import time\n",
    "import csv\n",
    "import io\n",
    "import tweepy\n",
    "from os import stat\n",
    "from sys import argv\n",
    "\n",
    "#ckey = ''\n",
    "#csecret = ''\n",
    "#atoken = ''\n",
    "#asecret = ''\n",
    "#uncomment if necessary\n",
    "\n",
    "auth = tweepy.OAuthHandler(ckey, csecret)\n",
    "auth.set_access_token(atoken, asecret)\n",
    "\n",
    "api = tweepy.API(auth, wait_on_rate_limit = True, wait_on_rate_limit_notify = True)\n",
    "\n",
    "# userlistpath = argv[1]\n",
    "# friendlistpath = argv[2]\n",
    "# uncomment two lines above for script use\n",
    "\n",
    "# change the following two lines\n",
    "userlistpath = '' \n",
    "friendlistpath = ''\n",
    "\n",
    "def get_friend_ids(userid):\n",
    "\n",
    "    userid = int(userid)\n",
    "\n",
    "    uids = tweepy.Cursor(api.friends_ids, user_id = userid).items()\n",
    "\n",
    "    idlist = []\n",
    "    idcount = 0\n",
    "    \n",
    "    try:\n",
    "        for uid in uids:\n",
    "            idlist.append(uid)\n",
    "            idcount += 1\n",
    "    except tweepy.TweepError as e:\n",
    "        idlist.append(-int(e.reason[-3:]))\n",
    "        print(e.reason + ' for %d'  %(userid))\n",
    "    \n",
    "    print('%d friend ids collected for %d.' %(idcount,userid))\n",
    "    \n",
    "    return idlist\n",
    "\n",
    "\n",
    "def get_screen_name_and_created_at(uids):\n",
    "    \n",
    "    friend_count = len(uids)\n",
    "    \n",
    "    i = 0\n",
    "    \n",
    "    results = []\n",
    "    \n",
    "    while i < friend_count:\n",
    "        \n",
    "        if uids[0] < 0:\n",
    "            results.append([uids[i]]*3)\n",
    "            break\n",
    "        else:\n",
    "            j = i + 100\n",
    "            if j > friend_count:\n",
    "                j = friend_count\n",
    "            try:\n",
    "                users = api.lookup_users(user_ids=uids[i:j])\n",
    "                for user in users:\n",
    "                    results.append([uids[i],user.screen_name,int(time.mktime(user.created_at.timetuple()))])\n",
    "                    i += 1\n",
    "            except tweepy.TweepError as e:\n",
    "                code = int(e.reason[-3:])\n",
    "                for uid in uids[i:j]:\n",
    "                    results.append([uid, -code, -code])\n",
    "                    i += 1        \n",
    "    \n",
    "    print('%d friend details collected.' %(i))\n",
    "                          \n",
    "    return results\n",
    "\n",
    "\n",
    "# opens csv, calls the funtions above with the csv's contents, writes results in other csv\n",
    "def write_edge_list(readpath, writepath):\n",
    "    with io.open(readpath,\n",
    "                 encoding='utf_8', newline='') as userlist, io.open(writepath,\n",
    "                                                                    mode='a',encoding='utf_8', newline='') as friendlist:\n",
    "        users = csv.reader(userlist)\n",
    "        friends = csv.writer(friendlist, delimiter = '\\t', lineterminator = '\\n')\n",
    "        \n",
    "        if stat(writepath).st_size == 0:\n",
    "            friends.writerow(['user','friend_id','friend_name','friend_created'])\n",
    "        \n",
    "        n = 0\n",
    "        \n",
    "        for user in users:\n",
    "            print('Friends of %d users gathered so far. Goin on.' %(n))\n",
    "            friendids = get_friend_ids(user[0])\n",
    "            frienddetails = get_screen_name_and_created_at(friendids)\n",
    "            for details in frienddetails:\n",
    "                friends.writerow([user[0],details[0],details[1],details[2]])\n",
    "            n += 1\n",
    "        \n",
    "    print('Friends of %d users gathered. Pew. That was exciting.' %(n))\n",
    "\n",
    "\n",
    "\n",
    "write_edge_list(userlistpath,friendlistpath)"
   ]
  },
  {
   "cell_type": "markdown",
   "metadata": {},
   "source": [
    "# Look things up here\n",
    "\n",
    "* http://tweepy.readthedocs.org/en/v3.4.0/index.html\n",
    "* https://dev.twitter.com/overview/documentation"
   ]
  }
 ],
 "metadata": {
  "kernelspec": {
   "display_name": "Python 3",
   "language": "python",
   "name": "python3"
  },
  "language_info": {
   "codemirror_mode": {
    "name": "ipython",
    "version": 3
   },
   "file_extension": ".py",
   "mimetype": "text/x-python",
   "name": "python",
   "nbconvert_exporter": "python",
   "pygments_lexer": "ipython3",
   "version": "3.4.2"
  }
 },
 "nbformat": 4,
 "nbformat_minor": 0
}
